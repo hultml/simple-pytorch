{
 "cells": [
  {
   "cell_type": "markdown",
   "metadata": {},
   "source": [
    "# Pytorch Basics"
   ]
  },
  {
   "cell_type": "code",
   "execution_count": 1,
   "metadata": {},
   "outputs": [
    {
     "name": "stdout",
     "output_type": "stream",
     "text": [
      "2.2.2\n",
      "0.17.2\n",
      "tensor([[0.5459, 0.9667, 0.9904],\n",
      "        [0.4508, 0.7616, 0.6088],\n",
      "        [0.8928, 0.8345, 0.8830],\n",
      "        [0.8426, 0.0024, 0.0645],\n",
      "        [0.2407, 0.1510, 0.9054]])\n",
      "-6.572018623352051\n"
     ]
    }
   ],
   "source": [
    "### Code Cell to Test PyTorch\n",
    "\n",
    "import torch\n",
    "print(torch.__version__)\n",
    "import torchvision\n",
    "import torchvision.transforms as transforms\n",
    "print(torchvision.__version__)\n",
    "\n",
    "x = torch.rand(5, 3)\n",
    "print(x)\n",
    "\n",
    "transforms.RandomRotation(0.7)\n",
    "transforms.RandomRotation([0.9, 0.2])\n",
    "\n",
    "t = transforms.RandomRotation(10)\n",
    "angle = t.get_params(t.degrees)\n",
    "\n",
    "print(angle)\n"
   ]
  },
  {
   "cell_type": "markdown",
   "metadata": {},
   "source": [
    "## Why PyTorch?\n",
    "\n",
    "*All the quotes will come from the PyTorch About Page http://pytorch.org/about/ from which we'll plagiarize shamelessly.  After all, who better to tout the virtues of PyTorch than the creators?*\n",
    "\n",
    "\n",
    "### What is PyTorch?\n",
    "\n",
    "According to the PyTorch about page, \"PyTorch is a python package that provides two high-level features:\n",
    "\n",
    "- Tensor computation (like numpy) with strong GPU acceleration\n",
    "- Deep Neural Networks built on a tape-based autograd system\"\n",
    "\n",
    "### Why is it getting so popular?\n",
    "\n",
    "#### It's quite fast\n",
    "\n",
    "\"PyTorch has minimal framework overhead. We integrate acceleration libraries such as Intel MKL and NVIDIA (CuDNN, NCCL) to maximize speed. At the core, it’s CPU and GPU Tensor and Neural Network backends (TH, THC, THNN, THCUNN) are written as independent libraries with a C99 API.\n",
    "They are mature and have been tested for years.\n",
    "\n",
    "Hence, PyTorch is quite fast – whether you run small or large neural networks.\"\n",
    "\n",
    "#### Imperative programming experience\n",
    "\n",
    "\"PyTorch is designed to be intuitive, linear in thought and easy to use. When you execute a line of code, it gets executed. There isn’t an asynchronous view of the world. When you drop into a debugger, or receive error messages and stack traces, understanding them is straight-forward. The stack-trace points to exactly where your code was defined. We hope you never spend hours debugging your code because of bad stack traces or asynchronous and opaque execution engines.\"\n",
    "\n",
    "\"PyTorch is not a Python binding into a monolothic C++ framework. It is built to be deeply integrated into Python. You can use it naturally like you would use numpy / scipy / scikit-learn etc. You can write your new neural network layers in Python itself, using your favorite libraries and use packages such as Cython and Numba. Our goal is to not reinvent the wheel where appropriate.\"\n",
    "\n",
    "#### Takes advantage of GPUs easily\n",
    "\n",
    "\"PyTorch provides Tensors that can live either on the CPU or the GPU, and accelerate compute by a huge amount.\n",
    "\n",
    "We provide a wide variety of tensor routines to accelerate and fit your scientific computation needs such as slicing, indexing, math operations, linear algebra, reductions. And they are fast!\"\n",
    "\n",
    "\n",
    "#### Dynamic Graphs!!!\n",
    "\n",
    "\"Most frameworks such as TensorFlow, Theano, Caffe and CNTK have a static view of the world. One has to build a neural network, and reuse the same structure again and again. Changing the way the network behaves means that one has to start from scratch.\n",
    "\n",
    "With PyTorch, we use a technique called Reverse-mode auto-differentiation, which allows you to change the way your network behaves arbitrarily with zero lag or overhead. Our inspiration comes from several research papers on this topic, as well as current and past work such as autograd, autograd, Chainer, etc.\n",
    "\n",
    "While this technique is not unique to PyTorch, it’s one of the fastest implementations of it to date. You get the best of speed and flexibility for your crazy research.\"\n",
    "\n"
   ]
  },
  {
   "cell_type": "markdown",
   "metadata": {},
   "source": [
    "## Working with PyTorch Basics\n",
    "\n",
    "Enough of the sales pitch!  Let's start to understand the PyTorch basics.\n",
    "\n",
    "The basic unit of PyTorch is a tensor (basically a multi-dimensional array like a np.ndarray).\n",
    "\n",
    "![](https://cdn-images-1.medium.com/max/2000/1*_D5ZvufDS38WkhK9rK32hQ.jpeg)\n",
    "\n",
    "(image borrowed from https://hackernoon.com/learning-ai-if-you-suck-at-math-p4-tensors-illustrated-with-cats-27f0002c9b32 )\n",
    "\n",
    "We can create PyTorch tensors directly."
   ]
  },
  {
   "cell_type": "code",
   "execution_count": 2,
   "metadata": {},
   "outputs": [],
   "source": [
    "# from https://www.stefanfiott.com/machine-learning/tensors-and-gradients-in-pytorch/\n",
    "def tensor_properties(t, show_value=True):\n",
    "    print('Tensor properties:')\n",
    "    props = [('rank', t.dim()),\n",
    "             ('shape', t.size()),\n",
    "             ('data type', t.dtype),\n",
    "             ('tensor type', t.type())]\n",
    "    for s,v in props:\n",
    "        print('\\t{0:12}: {1}'.format(s,v))\n",
    "    if show_value:\n",
    "        #print('{0:12}: {1}'.format('value',t))\n",
    "        print(\"Value:\")\n",
    "        print(t)"
   ]
  },
  {
   "cell_type": "code",
   "execution_count": 3,
   "metadata": {},
   "outputs": [
    {
     "name": "stdout",
     "output_type": "stream",
     "text": [
      "Tensor properties:\n",
      "\trank        : 0\n",
      "\tshape       : torch.Size([])\n",
      "\tdata type   : torch.int64\n",
      "\ttensor type : torch.LongTensor\n",
      "Value:\n",
      "tensor(5)\n"
     ]
    }
   ],
   "source": [
    "# torch.tensor always copies data. See below for 0-copy\n",
    "scalar = torch.tensor(5)\n",
    "tensor_properties(scalar)"
   ]
  },
  {
   "cell_type": "code",
   "execution_count": 4,
   "metadata": {},
   "outputs": [
    {
     "name": "stdout",
     "output_type": "stream",
     "text": [
      "Tensor properties:\n",
      "\trank        : 1\n",
      "\tshape       : torch.Size([6])\n",
      "\tdata type   : torch.float32\n",
      "\ttensor type : torch.FloatTensor\n",
      "Value:\n",
      "tensor([1., 2., 3., 4., 5., 6.])\n"
     ]
    }
   ],
   "source": [
    "## You can create torch.Tensor objects by giving them data directly\n",
    "\n",
    "#  1D vector\n",
    "vector_input = [1., 2., 3., 4., 5., 6.]\n",
    "vector = torch.tensor(vector_input)\n",
    "tensor_properties(vector)"
   ]
  },
  {
   "cell_type": "code",
   "execution_count": 5,
   "metadata": {},
   "outputs": [
    {
     "name": "stdout",
     "output_type": "stream",
     "text": [
      "Tensor properties:\n",
      "\trank        : 2\n",
      "\tshape       : torch.Size([2, 3])\n",
      "\tdata type   : torch.float32\n",
      "\ttensor type : torch.FloatTensor\n",
      "Value:\n",
      "tensor([[1., 2., 3.],\n",
      "        [4., 5., 6.]])\n"
     ]
    }
   ],
   "source": [
    "# Matrix\n",
    "matrix_input = [[1., 2., 3.], [4., 5., 6]]\n",
    "matrix = torch.tensor(matrix_input)\n",
    "tensor_properties(matrix)"
   ]
  },
  {
   "cell_type": "code",
   "execution_count": 6,
   "metadata": {},
   "outputs": [
    {
     "name": "stdout",
     "output_type": "stream",
     "text": [
      "Tensor properties:\n",
      "\trank        : 3\n",
      "\tshape       : torch.Size([2, 2, 2])\n",
      "\tdata type   : torch.float32\n",
      "\ttensor type : torch.FloatTensor\n",
      "Value:\n",
      "tensor([[[1., 2.],\n",
      "         [3., 4.]],\n",
      "\n",
      "        [[5., 6.],\n",
      "         [7., 8.]]])\n"
     ]
    }
   ],
   "source": [
    "# Create a 3D tensor of size 2x2x2.\n",
    "tensor_input = [[[1., 2.], [3., 4.]],\n",
    "          [[5., 6.], [7., 8.]]]\n",
    "tensor3d = torch.tensor(tensor_input)\n",
    "\n",
    "tensor_properties(tensor3d)"
   ]
  },
  {
   "cell_type": "markdown",
   "metadata": {},
   "source": [
    "They can be created without any initialization or initialized with random data from uniform (rand()) or normal (randn()) distributions"
   ]
  },
  {
   "cell_type": "code",
   "execution_count": 7,
   "metadata": {},
   "outputs": [
    {
     "name": "stdout",
     "output_type": "stream",
     "text": [
      "Tensor properties:\n",
      "\trank        : 2\n",
      "\tshape       : torch.Size([2, 5])\n",
      "\tdata type   : torch.float32\n",
      "\ttensor type : torch.FloatTensor\n",
      "Value:\n",
      "tensor([[0., 0., 0., 0., 0.],\n",
      "        [0., 0., 0., 0., 0.]])\n",
      "Tensor properties:\n",
      "\trank        : 2\n",
      "\tshape       : torch.Size([3, 5])\n",
      "\tdata type   : torch.float32\n",
      "\ttensor type : torch.FloatTensor\n",
      "Value:\n",
      "tensor([[0., 0., 0., 0., 0.],\n",
      "        [0., 0., 0., 0., 0.],\n",
      "        [0., 0., 0., 0., 0.]])\n"
     ]
    }
   ],
   "source": [
    "# Tensors with no initialization\n",
    "x_1 = torch.Tensor(2, 5)\n",
    "y_1 = torch.Tensor(3, 5)\n",
    "tensor_properties(x_1)\n",
    "tensor_properties(y_1)"
   ]
  },
  {
   "cell_type": "code",
   "execution_count": 8,
   "metadata": {},
   "outputs": [
    {
     "name": "stdout",
     "output_type": "stream",
     "text": [
      "Tensor properties:\n",
      "\trank        : 2\n",
      "\tshape       : torch.Size([5, 3])\n",
      "\tdata type   : torch.float32\n",
      "\ttensor type : torch.FloatTensor\n",
      "Value:\n",
      "tensor([[0.0392, 0.9306, 0.1611],\n",
      "        [0.9746, 0.5795, 0.9030],\n",
      "        [0.4360, 0.8093, 0.1229],\n",
      "        [0.3461, 0.3506, 0.8834],\n",
      "        [0.2004, 0.3575, 0.8883]])\n",
      "Tensor properties:\n",
      "\trank        : 2\n",
      "\tshape       : torch.Size([5, 5])\n",
      "\tdata type   : torch.float32\n",
      "\ttensor type : torch.FloatTensor\n",
      "Value:\n",
      "tensor([[0.4399, 0.6357, 0.0574, 0.0102, 0.4375],\n",
      "        [0.1609, 0.3153, 0.5308, 0.0129, 0.4970],\n",
      "        [0.6542, 0.2706, 0.5435, 0.9208, 0.6663],\n",
      "        [0.2864, 0.4663, 0.4117, 0.6146, 0.9518],\n",
      "        [0.5659, 0.5024, 0.9389, 0.3811, 0.9331]])\n"
     ]
    }
   ],
   "source": [
    "# Tensors initialized from uniform\n",
    "x_2 = torch.rand(5, 3)\n",
    "y_2 = torch.rand(5, 5)\n",
    "\n",
    "tensor_properties(x_2)\n",
    "tensor_properties(y_2)"
   ]
  },
  {
   "cell_type": "code",
   "execution_count": 9,
   "metadata": {},
   "outputs": [
    {
     "name": "stdout",
     "output_type": "stream",
     "text": [
      "Tensor properties:\n",
      "\trank        : 2\n",
      "\tshape       : torch.Size([5, 3])\n",
      "\tdata type   : torch.float32\n",
      "\ttensor type : torch.FloatTensor\n",
      "Value:\n",
      "tensor([[-1.8983,  1.4574, -0.4131],\n",
      "        [ 1.2422, -0.8654, -0.6743],\n",
      "        [ 0.1341,  0.7286, -0.0587],\n",
      "        [-0.1311, -0.6202,  0.9763],\n",
      "        [ 0.5793, -1.7198,  0.3197]])\n",
      "Tensor properties:\n",
      "\trank        : 2\n",
      "\tshape       : torch.Size([5, 5])\n",
      "\tdata type   : torch.float32\n",
      "\ttensor type : torch.FloatTensor\n",
      "Value:\n",
      "tensor([[-0.4349, -1.5923, -0.3930, -0.2002,  1.1021],\n",
      "        [-1.1001, -1.0965,  0.6264, -0.4382, -0.4905],\n",
      "        [-0.0200,  1.1412,  0.6453,  1.0767,  1.0157],\n",
      "        [-1.1531, -0.1024, -1.2901,  0.5567, -1.1099],\n",
      "        [-0.6277,  1.4569, -2.3421, -0.8137, -0.8233]])\n"
     ]
    }
   ],
   "source": [
    "# Tensors initialized from normal\n",
    "x_3 = torch.randn(5, 3)\n",
    "y_3 = torch.randn(5, 5)\n",
    "\n",
    "tensor_properties(x_3)\n",
    "tensor_properties(y_3)"
   ]
  },
  {
   "cell_type": "markdown",
   "metadata": {},
   "source": [
    "The expected operations (arithmetic operations, addressing, etc) are all in place."
   ]
  },
  {
   "cell_type": "code",
   "execution_count": 10,
   "metadata": {},
   "outputs": [
    {
     "name": "stdout",
     "output_type": "stream",
     "text": [
      "torch.Size([2, 5])\n",
      "tensor([[0., 0., 0., 0., 0.],\n",
      "        [0., 0., 0., 0., 0.]])\n",
      "tensor([[0.0392, 0.9306, 0.1611],\n",
      "        [0.9746, 0.5795, 0.9030],\n",
      "        [0.4360, 0.8093, 0.1229],\n",
      "        [0.3461, 0.3506, 0.8834],\n",
      "        [0.2004, 0.3575, 0.8883]])\n",
      "tensor([[-1.8983,  1.4574, -0.4131],\n",
      "        [ 1.2422, -0.8654, -0.6743],\n",
      "        [ 0.1341,  0.7286, -0.0587],\n",
      "        [-0.1311, -0.6202,  0.9763],\n",
      "        [ 0.5793, -1.7198,  0.3197]])\n",
      "tensor([[-1.8592,  2.3880, -0.2520],\n",
      "        [ 2.2168, -0.2859,  0.2286],\n",
      "        [ 0.5702,  1.5379,  0.0642],\n",
      "        [ 0.2150, -0.2696,  1.8597],\n",
      "        [ 0.7797, -1.3623,  1.2080]])\n",
      "tensor([-0.4131, -0.6743, -0.0587,  0.9763,  0.3197])\n"
     ]
    }
   ],
   "source": [
    "# Expect (2,5)\n",
    "print(x_1.size())\n",
    "\n",
    "print(x_1)\n",
    "\n",
    "\n",
    "# Addition\n",
    "print(x_2)\n",
    "print(x_3)\n",
    "\n",
    "print(x_2 + x_3)\n",
    "\n",
    "# Addressing\n",
    "print(x_3[:, 2])"
   ]
  },
  {
   "cell_type": "markdown",
   "metadata": {},
   "source": [
    "It's easy to move between PyTorch and Numpy worlds with numpy() and torch.from_numpy()"
   ]
  },
  {
   "cell_type": "code",
   "execution_count": 11,
   "metadata": {},
   "outputs": [
    {
     "name": "stdout",
     "output_type": "stream",
     "text": [
      "tensor([[0., 0., 0., 0., 0.],\n",
      "        [0., 0., 0., 0., 0.]])\n",
      "[[0. 0. 0. 0. 0.]\n",
      " [0. 0. 0. 0. 0.]]\n",
      "<class 'torch.Tensor'>\n",
      "<class 'numpy.ndarray'>\n",
      "<class 'numpy.ndarray'>\n",
      "<class 'torch.Tensor'>\n"
     ]
    }
   ],
   "source": [
    "# PyTorch --> Numpy\n",
    "print(x_1)\n",
    "print(x_1.numpy())\n",
    "\n",
    "print(type(x_1))\n",
    "print(type(x_1.numpy()))\n",
    "\n",
    "numpy_x_1 = x_1.numpy()\n",
    "\n",
    "# does not makes a copy: just wraps a tensor object around the numpy array\n",
    "pytorch_x_1 = torch.from_numpy(numpy_x_1)\n",
    "\n",
    "print(type(numpy_x_1))\n",
    "print(type(pytorch_x_1))"
   ]
  },
  {
   "cell_type": "markdown",
   "metadata": {},
   "source": [
    "Finally PyTorch provides some convenience mechanisms for concatenating Tensors via torch.cat() and reshaping them with  .view() "
   ]
  },
  {
   "cell_type": "code",
   "execution_count": 24,
   "metadata": {},
   "outputs": [
    {
     "name": "stdout",
     "output_type": "stream",
     "text": [
      "torch.Size([5, 5])\n",
      "torch.Size([2, 8])\n",
      "tensor([[[-0.3238, -1.1609, -2.0932,  0.4728],\n",
      "         [-2.0533, -1.0469,  0.0503,  0.8404],\n",
      "         [-0.4482, -0.9700, -0.0431, -0.0911]],\n",
      "\n",
      "        [[ 1.9733, -2.2664,  0.1117, -2.0043],\n",
      "         [ 1.3119, -1.0286,  1.5309, -0.3219],\n",
      "         [-0.5133,  1.3478, -0.8362, -0.4039]]])\n",
      "tensor([[-0.3238, -1.1609, -2.0932,  0.4728, -2.0533, -1.0469,  0.0503,  0.8404,\n",
      "         -0.4482, -0.9700, -0.0431, -0.0911],\n",
      "        [ 1.9733, -2.2664,  0.1117, -2.0043,  1.3119, -1.0286,  1.5309, -0.3219,\n",
      "         -0.5133,  1.3478, -0.8362, -0.4039]])\n",
      "tensor([[-0.3238, -1.1609, -2.0932,  0.4728, -2.0533, -1.0469,  0.0503,  0.8404,\n",
      "         -0.4482, -0.9700, -0.0431, -0.0911],\n",
      "        [ 1.9733, -2.2664,  0.1117, -2.0043,  1.3119, -1.0286,  1.5309, -0.3219,\n",
      "         -0.5133,  1.3478, -0.8362, -0.4039]])\n"
     ]
    }
   ],
   "source": [
    "## Concatenating\n",
    "\n",
    "# By default, it concatenates along the zeroth(first) axis (concatenates rows)\n",
    "x_1 = torch.randn(2, 5)\n",
    "y_1 = torch.randn(3, 5)\n",
    "z_1 = torch.cat([x_1, y_1])\n",
    "print(z_1.shape)\n",
    "\n",
    "# Concatenate columns:\n",
    "x_2 = torch.randn(2, 3)\n",
    "y_2 = torch.randn(2, 5)\n",
    "# second arg specifies which axis to concat along\n",
    "z_2 = torch.cat([x_2, y_2], 1)\n",
    "print(z_2.shape)\n",
    "\n",
    "## Reshaping\n",
    "x = torch.randn(2, 3, 4)\n",
    "print(x)\n",
    "print(x.view(2, 12))  # Reshape to 2 rows, 12 columns\n",
    "# Same as above.  If one of the dimensions is -1, its size can be inferred\n",
    "print(x.view(2, -1))"
   ]
  },
  {
   "cell_type": "markdown",
   "metadata": {},
   "source": [
    "Variables (and now tensors requiring gradients) come with a .backward() that allows them to do autodifferentiation via backwards propagation.  "
   ]
  },
  {
   "cell_type": "markdown",
   "metadata": {},
   "source": [
    "## From numpy to pytorch and back"
   ]
  },
  {
   "cell_type": "code",
   "execution_count": 26,
   "metadata": {},
   "outputs": [
    {
     "name": "stdout",
     "output_type": "stream",
     "text": [
      "Mean: 0.1307\n",
      "Standard Deviation: 0.3081\n"
     ]
    }
   ],
   "source": [
    "import numpy as np\n",
    "import gzip\n",
    "import struct\n",
    "\n",
    "def read_mnist_images(filename):\n",
    "    with gzip.open(filename, 'rb') as f:\n",
    "        magic, num_images, rows, cols = struct.unpack('>IIII', f.read(16))\n",
    "        images = np.frombuffer(f.read(), dtype=np.uint8).reshape(num_images, rows, cols)\n",
    "    return images\n",
    "\n",
    "# Load the training images\n",
    "train_images = read_mnist_images('data/MNIST/raw/train-images-idx3-ubyte.gz')\n",
    "\n",
    "# Convert to float and scale to [0, 1]\n",
    "train_images = train_images.astype(np.float32) / 255.0\n",
    "\n",
    "# Calculate mean and standard deviation\n",
    "mean = np.mean(train_images)\n",
    "std = np.std(train_images)\n",
    "\n",
    "print(f\"Mean: {mean:.4f}\")\n",
    "print(f\"Standard Deviation: {std:.4f}\")"
   ]
  },
  {
   "cell_type": "code",
   "execution_count": 27,
   "metadata": {},
   "outputs": [],
   "source": [
    "import torch\n",
    "from torch.utils.data import TensorDataset, DataLoader\n",
    "\n",
    "def read_mnist_images(filename):\n",
    "    with gzip.open(filename, 'rb') as f:\n",
    "        magic, num_images, rows, cols = struct.unpack('>IIII', f.read(16))\n",
    "        images = np.frombuffer(f.read(), dtype=np.uint8).reshape(num_images, rows, cols)\n",
    "    return images\n",
    "\n",
    "def read_mnist_labels(filename):\n",
    "    with gzip.open(filename, 'rb') as f:\n",
    "        magic, num_labels = struct.unpack('>II', f.read(8))\n",
    "        labels = np.frombuffer(f.read(), dtype=np.uint8)\n",
    "    return labels"
   ]
  },
  {
   "cell_type": "code",
   "execution_count": 28,
   "metadata": {},
   "outputs": [],
   "source": [
    "# Load the data\n",
    "train_images = read_mnist_images('data/MNIST/raw/train-images-idx3-ubyte.gz')\n",
    "train_labels = read_mnist_labels('data/MNIST/raw/train-labels-idx1-ubyte.gz')\n",
    "test_images = read_mnist_images('data/MNIST/raw/t10k-images-idx3-ubyte.gz')\n",
    "test_labels = read_mnist_labels('data/MNIST/raw/t10k-labels-idx1-ubyte.gz')\n",
    "\n",
    "# Normalize the data\n",
    "train_images = train_images.astype(np.float32) / 255.0\n",
    "test_images = test_images.astype(np.float32) / 255.0"
   ]
  },
  {
   "cell_type": "code",
   "execution_count": 29,
   "metadata": {},
   "outputs": [
    {
     "name": "stdout",
     "output_type": "stream",
     "text": [
      "NumPy array shapes:\n",
      "Train images: (60000, 28, 28)\n",
      "Train labels: (60000,)\n",
      "Test images: (10000, 28, 28)\n",
      "Test labels: (10000,)\n",
      "\n",
      "Example image (NumPy):\n",
      "[[0.         0.         0.         0.         0.         0.\n",
      "  0.         0.         0.         0.         0.         0.\n",
      "  0.         0.         0.         0.         0.         0.\n",
      "  0.         0.         0.         0.         0.         0.\n",
      "  0.         0.         0.         0.        ]\n",
      " [0.         0.         0.         0.         0.         0.\n",
      "  0.         0.         0.         0.         0.         0.\n",
      "  0.         0.         0.         0.         0.         0.\n",
      "  0.         0.         0.         0.         0.         0.\n",
      "  0.         0.         0.         0.        ]\n",
      " [0.         0.         0.         0.         0.         0.\n",
      "  0.         0.         0.         0.         0.         0.\n",
      "  0.         0.         0.         0.         0.         0.\n",
      "  0.         0.         0.         0.         0.         0.\n",
      "  0.         0.         0.         0.        ]\n",
      " [0.         0.         0.         0.         0.         0.\n",
      "  0.         0.         0.         0.         0.         0.\n",
      "  0.         0.         0.         0.         0.         0.\n",
      "  0.         0.         0.         0.         0.         0.\n",
      "  0.         0.         0.         0.        ]\n",
      " [0.         0.         0.         0.         0.         0.\n",
      "  0.         0.         0.         0.         0.         0.\n",
      "  0.         0.         0.         0.         0.         0.\n",
      "  0.         0.         0.         0.         0.         0.\n",
      "  0.         0.         0.         0.        ]\n",
      " [0.         0.         0.         0.         0.         0.\n",
      "  0.         0.         0.         0.         0.         0.\n",
      "  0.01176471 0.07058824 0.07058824 0.07058824 0.49411765 0.53333336\n",
      "  0.6862745  0.10196079 0.6509804  1.         0.96862745 0.49803922\n",
      "  0.         0.         0.         0.        ]\n",
      " [0.         0.         0.         0.         0.         0.\n",
      "  0.         0.         0.11764706 0.14117648 0.36862746 0.6039216\n",
      "  0.6666667  0.99215686 0.99215686 0.99215686 0.99215686 0.99215686\n",
      "  0.88235295 0.6745098  0.99215686 0.9490196  0.7647059  0.2509804\n",
      "  0.         0.         0.         0.        ]\n",
      " [0.         0.         0.         0.         0.         0.\n",
      "  0.         0.19215687 0.93333334 0.99215686 0.99215686 0.99215686\n",
      "  0.99215686 0.99215686 0.99215686 0.99215686 0.99215686 0.9843137\n",
      "  0.3647059  0.32156864 0.32156864 0.21960784 0.15294118 0.\n",
      "  0.         0.         0.         0.        ]\n",
      " [0.         0.         0.         0.         0.         0.\n",
      "  0.         0.07058824 0.85882354 0.99215686 0.99215686 0.99215686\n",
      "  0.99215686 0.99215686 0.7764706  0.7137255  0.96862745 0.94509804\n",
      "  0.         0.         0.         0.         0.         0.\n",
      "  0.         0.         0.         0.        ]\n",
      " [0.         0.         0.         0.         0.         0.\n",
      "  0.         0.         0.3137255  0.6117647  0.41960785 0.99215686\n",
      "  0.99215686 0.8039216  0.04313726 0.         0.16862746 0.6039216\n",
      "  0.         0.         0.         0.         0.         0.\n",
      "  0.         0.         0.         0.        ]\n",
      " [0.         0.         0.         0.         0.         0.\n",
      "  0.         0.         0.         0.05490196 0.00392157 0.6039216\n",
      "  0.99215686 0.3529412  0.         0.         0.         0.\n",
      "  0.         0.         0.         0.         0.         0.\n",
      "  0.         0.         0.         0.        ]\n",
      " [0.         0.         0.         0.         0.         0.\n",
      "  0.         0.         0.         0.         0.         0.54509807\n",
      "  0.99215686 0.74509805 0.00784314 0.         0.         0.\n",
      "  0.         0.         0.         0.         0.         0.\n",
      "  0.         0.         0.         0.        ]\n",
      " [0.         0.         0.         0.         0.         0.\n",
      "  0.         0.         0.         0.         0.         0.04313726\n",
      "  0.74509805 0.99215686 0.27450982 0.         0.         0.\n",
      "  0.         0.         0.         0.         0.         0.\n",
      "  0.         0.         0.         0.        ]\n",
      " [0.         0.         0.         0.         0.         0.\n",
      "  0.         0.         0.         0.         0.         0.\n",
      "  0.13725491 0.94509804 0.88235295 0.627451   0.42352942 0.00392157\n",
      "  0.         0.         0.         0.         0.         0.\n",
      "  0.         0.         0.         0.        ]\n",
      " [0.         0.         0.         0.         0.         0.\n",
      "  0.         0.         0.         0.         0.         0.\n",
      "  0.         0.31764707 0.9411765  0.99215686 0.99215686 0.46666667\n",
      "  0.09803922 0.         0.         0.         0.         0.\n",
      "  0.         0.         0.         0.        ]\n",
      " [0.         0.         0.         0.         0.         0.\n",
      "  0.         0.         0.         0.         0.         0.\n",
      "  0.         0.         0.1764706  0.7294118  0.99215686 0.99215686\n",
      "  0.5882353  0.10588235 0.         0.         0.         0.\n",
      "  0.         0.         0.         0.        ]\n",
      " [0.         0.         0.         0.         0.         0.\n",
      "  0.         0.         0.         0.         0.         0.\n",
      "  0.         0.         0.         0.0627451  0.3647059  0.9882353\n",
      "  0.99215686 0.73333335 0.         0.         0.         0.\n",
      "  0.         0.         0.         0.        ]\n",
      " [0.         0.         0.         0.         0.         0.\n",
      "  0.         0.         0.         0.         0.         0.\n",
      "  0.         0.         0.         0.         0.         0.9764706\n",
      "  0.99215686 0.9764706  0.2509804  0.         0.         0.\n",
      "  0.         0.         0.         0.        ]\n",
      " [0.         0.         0.         0.         0.         0.\n",
      "  0.         0.         0.         0.         0.         0.\n",
      "  0.         0.         0.18039216 0.50980395 0.7176471  0.99215686\n",
      "  0.99215686 0.8117647  0.00784314 0.         0.         0.\n",
      "  0.         0.         0.         0.        ]\n",
      " [0.         0.         0.         0.         0.         0.\n",
      "  0.         0.         0.         0.         0.         0.\n",
      "  0.15294118 0.5803922  0.8980392  0.99215686 0.99215686 0.99215686\n",
      "  0.98039216 0.7137255  0.         0.         0.         0.\n",
      "  0.         0.         0.         0.        ]\n",
      " [0.         0.         0.         0.         0.         0.\n",
      "  0.         0.         0.         0.         0.09411765 0.44705883\n",
      "  0.8666667  0.99215686 0.99215686 0.99215686 0.99215686 0.7882353\n",
      "  0.30588236 0.         0.         0.         0.         0.\n",
      "  0.         0.         0.         0.        ]\n",
      " [0.         0.         0.         0.         0.         0.\n",
      "  0.         0.         0.09019608 0.25882354 0.8352941  0.99215686\n",
      "  0.99215686 0.99215686 0.99215686 0.7764706  0.31764707 0.00784314\n",
      "  0.         0.         0.         0.         0.         0.\n",
      "  0.         0.         0.         0.        ]\n",
      " [0.         0.         0.         0.         0.         0.\n",
      "  0.07058824 0.67058825 0.85882354 0.99215686 0.99215686 0.99215686\n",
      "  0.99215686 0.7647059  0.3137255  0.03529412 0.         0.\n",
      "  0.         0.         0.         0.         0.         0.\n",
      "  0.         0.         0.         0.        ]\n",
      " [0.         0.         0.         0.         0.21568628 0.6745098\n",
      "  0.8862745  0.99215686 0.99215686 0.99215686 0.99215686 0.95686275\n",
      "  0.52156866 0.04313726 0.         0.         0.         0.\n",
      "  0.         0.         0.         0.         0.         0.\n",
      "  0.         0.         0.         0.        ]\n",
      " [0.         0.         0.         0.         0.53333336 0.99215686\n",
      "  0.99215686 0.99215686 0.83137256 0.5294118  0.5176471  0.0627451\n",
      "  0.         0.         0.         0.         0.         0.\n",
      "  0.         0.         0.         0.         0.         0.\n",
      "  0.         0.         0.         0.        ]\n",
      " [0.         0.         0.         0.         0.         0.\n",
      "  0.         0.         0.         0.         0.         0.\n",
      "  0.         0.         0.         0.         0.         0.\n",
      "  0.         0.         0.         0.         0.         0.\n",
      "  0.         0.         0.         0.        ]\n",
      " [0.         0.         0.         0.         0.         0.\n",
      "  0.         0.         0.         0.         0.         0.\n",
      "  0.         0.         0.         0.         0.         0.\n",
      "  0.         0.         0.         0.         0.         0.\n",
      "  0.         0.         0.         0.        ]\n",
      " [0.         0.         0.         0.         0.         0.\n",
      "  0.         0.         0.         0.         0.         0.\n",
      "  0.         0.         0.         0.         0.         0.\n",
      "  0.         0.         0.         0.         0.         0.\n",
      "  0.         0.         0.         0.        ]]\n",
      "Label: 5\n"
     ]
    }
   ],
   "source": [
    "# Using with NumPy\n",
    "print(\"NumPy array shapes:\")\n",
    "print(f\"Train images: {train_images.shape}\")\n",
    "print(f\"Train labels: {train_labels.shape}\")\n",
    "print(f\"Test images: {test_images.shape}\")\n",
    "print(f\"Test labels: {test_labels.shape}\")\n",
    "\n",
    "# Example of accessing a single image and label\n",
    "print(\"\\nExample image (NumPy):\")\n",
    "print(train_images[0])\n",
    "print(f\"Label: {train_labels[0]}\")"
   ]
  },
  {
   "cell_type": "code",
   "execution_count": 31,
   "metadata": {},
   "outputs": [
    {
     "data": {
      "text/plain": [
       "<matplotlib.image.AxesImage at 0x158159710>"
      ]
     },
     "execution_count": 31,
     "metadata": {},
     "output_type": "execute_result"
    },
    {
     "data": {
      "image/png": "[encoded data removed]",
      "text/plain": [
       "<Figure size 640x480 with 1 Axes>"
      ]
     },
     "metadata": {},
     "output_type": "display_data"
    }
   ],
   "source": [
    "import matplotlib.pyplot as plt\n",
    "plt.imshow(train_images[0])"
   ]
  },
  {
   "cell_type": "code",
   "execution_count": 32,
   "metadata": {},
   "outputs": [
    {
     "name": "stdout",
     "output_type": "stream",
     "text": [
      "Train Images Shape torch.Size([60000, 1, 28, 28])\n",
      "\n",
      "PyTorch tensor shapes:\n",
      "Train images: torch.Size([60000, 1, 28, 28])\n",
      "Train labels: torch.Size([60000])\n",
      "Test images: torch.Size([10000, 1, 28, 28])\n",
      "Test labels: torch.Size([10000])\n",
      "\n",
      "Example image (PyTorch):\n",
      "tensor([[[0.0000, 0.0000, 0.0000, 0.0000, 0.0000, 0.0000, 0.0000, 0.0000,\n",
      "          0.0000, 0.0000, 0.0000, 0.0000, 0.0000, 0.0000, 0.0000, 0.0000,\n",
      "          0.0000, 0.0000, 0.0000, 0.0000, 0.0000, 0.0000, 0.0000, 0.0000,\n",
      "          0.0000, 0.0000, 0.0000, 0.0000],\n",
      "         [0.0000, 0.0000, 0.0000, 0.0000, 0.0000, 0.0000, 0.0000, 0.0000,\n",
      "          0.0000, 0.0000, 0.0000, 0.0000, 0.0000, 0.0000, 0.0000, 0.0000,\n",
      "          0.0000, 0.0000, 0.0000, 0.0000, 0.0000, 0.0000, 0.0000, 0.0000,\n",
      "          0.0000, 0.0000, 0.0000, 0.0000],\n",
      "         [0.0000, 0.0000, 0.0000, 0.0000, 0.0000, 0.0000, 0.0000, 0.0000,\n",
      "          0.0000, 0.0000, 0.0000, 0.0000, 0.0000, 0.0000, 0.0000, 0.0000,\n",
      "          0.0000, 0.0000, 0.0000, 0.0000, 0.0000, 0.0000, 0.0000, 0.0000,\n",
      "          0.0000, 0.0000, 0.0000, 0.0000],\n",
      "         [0.0000, 0.0000, 0.0000, 0.0000, 0.0000, 0.0000, 0.0000, 0.0000,\n",
      "          0.0000, 0.0000, 0.0000, 0.0000, 0.0000, 0.0000, 0.0000, 0.0000,\n",
      "          0.0000, 0.0000, 0.0000, 0.0000, 0.0000, 0.0000, 0.0000, 0.0000,\n",
      "          0.0000, 0.0000, 0.0000, 0.0000],\n",
      "         [0.0000, 0.0000, 0.0000, 0.0000, 0.0000, 0.0000, 0.0000, 0.0000,\n",
      "          0.0000, 0.0000, 0.0000, 0.0000, 0.0000, 0.0000, 0.0000, 0.0000,\n",
      "          0.0000, 0.0000, 0.0000, 0.0000, 0.0000, 0.0000, 0.0000, 0.0000,\n",
      "          0.0000, 0.0000, 0.0000, 0.0000],\n",
      "         [0.0000, 0.0000, 0.0000, 0.0000, 0.0000, 0.0000, 0.0000, 0.0000,\n",
      "          0.0000, 0.0000, 0.0000, 0.0000, 0.0118, 0.0706, 0.0706, 0.0706,\n",
      "          0.4941, 0.5333, 0.6863, 0.1020, 0.6510, 1.0000, 0.9686, 0.4980,\n",
      "          0.0000, 0.0000, 0.0000, 0.0000],\n",
      "         [0.0000, 0.0000, 0.0000, 0.0000, 0.0000, 0.0000, 0.0000, 0.0000,\n",
      "          0.1176, 0.1412, 0.3686, 0.6039, 0.6667, 0.9922, 0.9922, 0.9922,\n",
      "          0.9922, 0.9922, 0.8824, 0.6745, 0.9922, 0.9490, 0.7647, 0.2510,\n",
      "          0.0000, 0.0000, 0.0000, 0.0000],\n",
      "         [0.0000, 0.0000, 0.0000, 0.0000, 0.0000, 0.0000, 0.0000, 0.1922,\n",
      "          0.9333, 0.9922, 0.9922, 0.9922, 0.9922, 0.9922, 0.9922, 0.9922,\n",
      "          0.9922, 0.9843, 0.3647, 0.3216, 0.3216, 0.2196, 0.1529, 0.0000,\n",
      "          0.0000, 0.0000, 0.0000, 0.0000],\n",
      "         [0.0000, 0.0000, 0.0000, 0.0000, 0.0000, 0.0000, 0.0000, 0.0706,\n",
      "          0.8588, 0.9922, 0.9922, 0.9922, 0.9922, 0.9922, 0.7765, 0.7137,\n",
      "          0.9686, 0.9451, 0.0000, 0.0000, 0.0000, 0.0000, 0.0000, 0.0000,\n",
      "          0.0000, 0.0000, 0.0000, 0.0000],\n",
      "         [0.0000, 0.0000, 0.0000, 0.0000, 0.0000, 0.0000, 0.0000, 0.0000,\n",
      "          0.3137, 0.6118, 0.4196, 0.9922, 0.9922, 0.8039, 0.0431, 0.0000,\n",
      "          0.1686, 0.6039, 0.0000, 0.0000, 0.0000, 0.0000, 0.0000, 0.0000,\n",
      "          0.0000, 0.0000, 0.0000, 0.0000],\n",
      "         [0.0000, 0.0000, 0.0000, 0.0000, 0.0000, 0.0000, 0.0000, 0.0000,\n",
      "          0.0000, 0.0549, 0.0039, 0.6039, 0.9922, 0.3529, 0.0000, 0.0000,\n",
      "          0.0000, 0.0000, 0.0000, 0.0000, 0.0000, 0.0000, 0.0000, 0.0000,\n",
      "          0.0000, 0.0000, 0.0000, 0.0000],\n",
      "         [0.0000, 0.0000, 0.0000, 0.0000, 0.0000, 0.0000, 0.0000, 0.0000,\n",
      "          0.0000, 0.0000, 0.0000, 0.5451, 0.9922, 0.7451, 0.0078, 0.0000,\n",
      "          0.0000, 0.0000, 0.0000, 0.0000, 0.0000, 0.0000, 0.0000, 0.0000,\n",
      "          0.0000, 0.0000, 0.0000, 0.0000],\n",
      "         [0.0000, 0.0000, 0.0000, 0.0000, 0.0000, 0.0000, 0.0000, 0.0000,\n",
      "          0.0000, 0.0000, 0.0000, 0.0431, 0.7451, 0.9922, 0.2745, 0.0000,\n",
      "          0.0000, 0.0000, 0.0000, 0.0000, 0.0000, 0.0000, 0.0000, 0.0000,\n",
      "          0.0000, 0.0000, 0.0000, 0.0000],\n",
      "         [0.0000, 0.0000, 0.0000, 0.0000, 0.0000, 0.0000, 0.0000, 0.0000,\n",
      "          0.0000, 0.0000, 0.0000, 0.0000, 0.1373, 0.9451, 0.8824, 0.6275,\n",
      "          0.4235, 0.0039, 0.0000, 0.0000, 0.0000, 0.0000, 0.0000, 0.0000,\n",
      "          0.0000, 0.0000, 0.0000, 0.0000],\n",
      "         [0.0000, 0.0000, 0.0000, 0.0000, 0.0000, 0.0000, 0.0000, 0.0000,\n",
      "          0.0000, 0.0000, 0.0000, 0.0000, 0.0000, 0.3176, 0.9412, 0.9922,\n",
      "          0.9922, 0.4667, 0.0980, 0.0000, 0.0000, 0.0000, 0.0000, 0.0000,\n",
      "          0.0000, 0.0000, 0.0000, 0.0000],\n",
      "         [0.0000, 0.0000, 0.0000, 0.0000, 0.0000, 0.0000, 0.0000, 0.0000,\n",
      "          0.0000, 0.0000, 0.0000, 0.0000, 0.0000, 0.0000, 0.1765, 0.7294,\n",
      "          0.9922, 0.9922, 0.5882, 0.1059, 0.0000, 0.0000, 0.0000, 0.0000,\n",
      "          0.0000, 0.0000, 0.0000, 0.0000],\n",
      "         [0.0000, 0.0000, 0.0000, 0.0000, 0.0000, 0.0000, 0.0000, 0.0000,\n",
      "          0.0000, 0.0000, 0.0000, 0.0000, 0.0000, 0.0000, 0.0000, 0.0627,\n",
      "          0.3647, 0.9882, 0.9922, 0.7333, 0.0000, 0.0000, 0.0000, 0.0000,\n",
      "          0.0000, 0.0000, 0.0000, 0.0000],\n",
      "         [0.0000, 0.0000, 0.0000, 0.0000, 0.0000, 0.0000, 0.0000, 0.0000,\n",
      "          0.0000, 0.0000, 0.0000, 0.0000, 0.0000, 0.0000, 0.0000, 0.0000,\n",
      "          0.0000, 0.9765, 0.9922, 0.9765, 0.2510, 0.0000, 0.0000, 0.0000,\n",
      "          0.0000, 0.0000, 0.0000, 0.0000],\n",
      "         [0.0000, 0.0000, 0.0000, 0.0000, 0.0000, 0.0000, 0.0000, 0.0000,\n",
      "          0.0000, 0.0000, 0.0000, 0.0000, 0.0000, 0.0000, 0.1804, 0.5098,\n",
      "          0.7176, 0.9922, 0.9922, 0.8118, 0.0078, 0.0000, 0.0000, 0.0000,\n",
      "          0.0000, 0.0000, 0.0000, 0.0000],\n",
      "         [0.0000, 0.0000, 0.0000, 0.0000, 0.0000, 0.0000, 0.0000, 0.0000,\n",
      "          0.0000, 0.0000, 0.0000, 0.0000, 0.1529, 0.5804, 0.8980, 0.9922,\n",
      "          0.9922, 0.9922, 0.9804, 0.7137, 0.0000, 0.0000, 0.0000, 0.0000,\n",
      "          0.0000, 0.0000, 0.0000, 0.0000],\n",
      "         [0.0000, 0.0000, 0.0000, 0.0000, 0.0000, 0.0000, 0.0000, 0.0000,\n",
      "          0.0000, 0.0000, 0.0941, 0.4471, 0.8667, 0.9922, 0.9922, 0.9922,\n",
      "          0.9922, 0.7882, 0.3059, 0.0000, 0.0000, 0.0000, 0.0000, 0.0000,\n",
      "          0.0000, 0.0000, 0.0000, 0.0000],\n",
      "         [0.0000, 0.0000, 0.0000, 0.0000, 0.0000, 0.0000, 0.0000, 0.0000,\n",
      "          0.0902, 0.2588, 0.8353, 0.9922, 0.9922, 0.9922, 0.9922, 0.7765,\n",
      "          0.3176, 0.0078, 0.0000, 0.0000, 0.0000, 0.0000, 0.0000, 0.0000,\n",
      "          0.0000, 0.0000, 0.0000, 0.0000],\n",
      "         [0.0000, 0.0000, 0.0000, 0.0000, 0.0000, 0.0000, 0.0706, 0.6706,\n",
      "          0.8588, 0.9922, 0.9922, 0.9922, 0.9922, 0.7647, 0.3137, 0.0353,\n",
      "          0.0000, 0.0000, 0.0000, 0.0000, 0.0000, 0.0000, 0.0000, 0.0000,\n",
      "          0.0000, 0.0000, 0.0000, 0.0000],\n",
      "         [0.0000, 0.0000, 0.0000, 0.0000, 0.2157, 0.6745, 0.8863, 0.9922,\n",
      "          0.9922, 0.9922, 0.9922, 0.9569, 0.5216, 0.0431, 0.0000, 0.0000,\n",
      "          0.0000, 0.0000, 0.0000, 0.0000, 0.0000, 0.0000, 0.0000, 0.0000,\n",
      "          0.0000, 0.0000, 0.0000, 0.0000],\n",
      "         [0.0000, 0.0000, 0.0000, 0.0000, 0.5333, 0.9922, 0.9922, 0.9922,\n",
      "          0.8314, 0.5294, 0.5176, 0.0627, 0.0000, 0.0000, 0.0000, 0.0000,\n",
      "          0.0000, 0.0000, 0.0000, 0.0000, 0.0000, 0.0000, 0.0000, 0.0000,\n",
      "          0.0000, 0.0000, 0.0000, 0.0000],\n",
      "         [0.0000, 0.0000, 0.0000, 0.0000, 0.0000, 0.0000, 0.0000, 0.0000,\n",
      "          0.0000, 0.0000, 0.0000, 0.0000, 0.0000, 0.0000, 0.0000, 0.0000,\n",
      "          0.0000, 0.0000, 0.0000, 0.0000, 0.0000, 0.0000, 0.0000, 0.0000,\n",
      "          0.0000, 0.0000, 0.0000, 0.0000],\n",
      "         [0.0000, 0.0000, 0.0000, 0.0000, 0.0000, 0.0000, 0.0000, 0.0000,\n",
      "          0.0000, 0.0000, 0.0000, 0.0000, 0.0000, 0.0000, 0.0000, 0.0000,\n",
      "          0.0000, 0.0000, 0.0000, 0.0000, 0.0000, 0.0000, 0.0000, 0.0000,\n",
      "          0.0000, 0.0000, 0.0000, 0.0000],\n",
      "         [0.0000, 0.0000, 0.0000, 0.0000, 0.0000, 0.0000, 0.0000, 0.0000,\n",
      "          0.0000, 0.0000, 0.0000, 0.0000, 0.0000, 0.0000, 0.0000, 0.0000,\n",
      "          0.0000, 0.0000, 0.0000, 0.0000, 0.0000, 0.0000, 0.0000, 0.0000,\n",
      "          0.0000, 0.0000, 0.0000, 0.0000]]])\n",
      "Label: 5\n",
      "\n",
      "Batch shapes:\n",
      "Images: torch.Size([64, 1, 28, 28])\n",
      "Labels: torch.Size([64])\n"
     ]
    },
    {
     "name": "stderr",
     "output_type": "stream",
     "text": [
      "/var/folders/wq/mr3zj9r14dzgjnq9rjx_vqbc0000gn/T/ipykernel_92032/3573648036.py:5: UserWarning: The given NumPy array is not writable, and PyTorch does not support non-writable tensors. This means writing to this tensor will result in undefined behavior. You may want to copy the array to protect its data or make it writable before converting it to a tensor. This type of warning will be suppressed for the rest of this program. (Triggered internally at /Users/runner/work/_temp/anaconda/conda-bld/pytorch_1711403251597/work/torch/csrc/utils/tensor_numpy.cpp:212.)\n",
      "  train_labels_torch = torch.from_numpy(train_labels).long()\n"
     ]
    }
   ],
   "source": [
    "# Using with PyTorch\n",
    "# Convert NumPy arrays to PyTorch tensors\n",
    "train_images_torch = torch.from_numpy(train_images).unsqueeze(1)  # Add channel dimension\n",
    "print(\"Train Images Shape\", train_images_torch.shape)\n",
    "train_labels_torch = torch.from_numpy(train_labels).long()\n",
    "test_images_torch = torch.from_numpy(test_images).unsqueeze(1)  # Add channel dimension\n",
    "test_labels_torch = torch.from_numpy(test_labels).long()\n",
    "\n",
    "# Create TensorDatasets\n",
    "train_dataset = TensorDataset(train_images_torch, train_labels_torch)\n",
    "test_dataset = TensorDataset(test_images_torch, test_labels_torch)\n",
    "\n",
    "# Create DataLoaders\n",
    "batch_size = 64\n",
    "train_loader = DataLoader(train_dataset, batch_size=batch_size, shuffle=True)\n",
    "test_loader = DataLoader(test_dataset, batch_size=batch_size, shuffle=False)\n",
    "\n",
    "print(\"\\nPyTorch tensor shapes:\")\n",
    "print(f\"Train images: {train_images_torch.shape}\")\n",
    "print(f\"Train labels: {train_labels_torch.shape}\")\n",
    "print(f\"Test images: {test_images_torch.shape}\")\n",
    "print(f\"Test labels: {test_labels_torch.shape}\")\n",
    "\n",
    "# Example of accessing a single image and label\n",
    "print(\"\\nExample image (PyTorch):\")\n",
    "print(train_images_torch[0])\n",
    "print(f\"Label: {train_labels_torch[0]}\")\n",
    "\n",
    "# Example of using DataLoader\n",
    "for images, labels in train_loader:\n",
    "    print(\"\\nBatch shapes:\")\n",
    "    print(f\"Images: {images.shape}\")\n",
    "    print(f\"Labels: {labels.shape}\")\n",
    "    break  # Just print the first batch"
   ]
  }
 ],
 "metadata": {
  "anaconda-cloud": {},
  "kernelspec": {
   "display_name": "Python 3 (ipykernel)",
   "language": "python",
   "name": "python3"
  },
  "language_info": {
   "codemirror_mode": {
    "name": "ipython",
    "version": 3
   },
   "file_extension": ".py",
   "mimetype": "text/x-python",
   "name": "python",
   "nbconvert_exporter": "python",
   "pygments_lexer": "ipython3",
   "version": "3.11.10"
  },
  "nteract": {
   "version": "0.7.1"
  }
 },
 "nbformat": 4,
 "nbformat_minor": 4
}
